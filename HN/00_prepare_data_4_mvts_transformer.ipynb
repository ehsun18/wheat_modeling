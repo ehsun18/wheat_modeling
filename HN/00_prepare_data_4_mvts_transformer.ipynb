{
 "cells": [
  {
   "cell_type": "code",
   "execution_count": 1,
   "id": "f0dbad70-a71d-45fb-8562-247573279ea9",
   "metadata": {},
   "outputs": [],
   "source": [
    "import shutup\n",
    "shutup.please()\n",
    "\n",
    "import pandas as pd\n",
    "import numpy as np\n",
    "import os, os.path, pickle, sys\n",
    "from datetime import datetime, date"
   ]
  },
  {
   "cell_type": "code",
   "execution_count": 2,
   "id": "7d28900f-a3ff-423f-b468-417a51db6544",
   "metadata": {},
   "outputs": [],
   "source": [
    "wheat_database = \"/Users/hn/Documents/01_research_data/Other_people/Ehsan/wheat/\"\n",
    "data_dir = wheat_database + \"data/\"\n",
    "separate_varieties_dir = data_dir + \"varieties/\"\n",
    "\n",
    "reOrganized_dir = data_dir + \"reOrganized/\"\n",
    "os.makedirs(reOrganized_dir, exist_ok=True)"
   ]
  },
  {
   "cell_type": "code",
   "execution_count": 3,
   "id": "0fe75a69",
   "metadata": {},
   "outputs": [
    {
     "data": {
      "text/html": [
       "<div>\n",
       "<style scoped>\n",
       "    .dataframe tbody tr th:only-of-type {\n",
       "        vertical-align: middle;\n",
       "    }\n",
       "\n",
       "    .dataframe tbody tr th {\n",
       "        vertical-align: top;\n",
       "    }\n",
       "\n",
       "    .dataframe thead th {\n",
       "        text-align: right;\n",
       "    }\n",
       "</style>\n",
       "<table border=\"1\" class=\"dataframe\">\n",
       "  <thead>\n",
       "    <tr style=\"text-align: right;\">\n",
       "      <th></th>\n",
       "      <th>location</th>\n",
       "      <th>latitude</th>\n",
       "      <th>longitude</th>\n",
       "      <th>year</th>\n",
       "      <th>emergence_precip</th>\n",
       "      <th>tillering_precip</th>\n",
       "      <th>jointing_precip</th>\n",
       "      <th>heading_precip</th>\n",
       "      <th>flowering_precip</th>\n",
       "      <th>grain_fill_precip</th>\n",
       "      <th>...</th>\n",
       "      <th>preseason_spei</th>\n",
       "      <th>soil_type</th>\n",
       "      <th>slope</th>\n",
       "      <th>elevation</th>\n",
       "      <th>aspect</th>\n",
       "      <th>grain_yield</th>\n",
       "      <th>test_weight</th>\n",
       "      <th>protein_content</th>\n",
       "      <th>plant_height</th>\n",
       "      <th>heading_date</th>\n",
       "    </tr>\n",
       "  </thead>\n",
       "  <tbody>\n",
       "    <tr>\n",
       "      <th>0</th>\n",
       "      <td>Almira</td>\n",
       "      <td>47.51921</td>\n",
       "      <td>-118.53658</td>\n",
       "      <td>2005</td>\n",
       "      <td>8.7</td>\n",
       "      <td>53.1</td>\n",
       "      <td>3.9</td>\n",
       "      <td>20.9</td>\n",
       "      <td>4.1</td>\n",
       "      <td>11.4</td>\n",
       "      <td>...</td>\n",
       "      <td>-20.57</td>\n",
       "      <td>6</td>\n",
       "      <td>7</td>\n",
       "      <td>596</td>\n",
       "      <td>142.765167</td>\n",
       "      <td>42.088889</td>\n",
       "      <td>58.105556</td>\n",
       "      <td>10.166667</td>\n",
       "      <td>31.000000</td>\n",
       "      <td>175.944444</td>\n",
       "    </tr>\n",
       "    <tr>\n",
       "      <th>1</th>\n",
       "      <td>Almira</td>\n",
       "      <td>47.51921</td>\n",
       "      <td>-118.53658</td>\n",
       "      <td>2006</td>\n",
       "      <td>0.0</td>\n",
       "      <td>27.4</td>\n",
       "      <td>30.3</td>\n",
       "      <td>16.5</td>\n",
       "      <td>2.3</td>\n",
       "      <td>1.9</td>\n",
       "      <td>...</td>\n",
       "      <td>19.11</td>\n",
       "      <td>6</td>\n",
       "      <td>7</td>\n",
       "      <td>596</td>\n",
       "      <td>142.765167</td>\n",
       "      <td>71.019048</td>\n",
       "      <td>59.385714</td>\n",
       "      <td>10.871429</td>\n",
       "      <td>28.095238</td>\n",
       "      <td>178.285714</td>\n",
       "    </tr>\n",
       "  </tbody>\n",
       "</table>\n",
       "<p>2 rows × 201 columns</p>\n",
       "</div>"
      ],
      "text/plain": [
       "  location  latitude  longitude  year  emergence_precip  tillering_precip  \\\n",
       "0   Almira  47.51921 -118.53658  2005               8.7              53.1   \n",
       "1   Almira  47.51921 -118.53658  2006               0.0              27.4   \n",
       "\n",
       "   jointing_precip  heading_precip  flowering_precip  grain_fill_precip  ...  \\\n",
       "0              3.9            20.9               4.1               11.4  ...   \n",
       "1             30.3            16.5               2.3                1.9  ...   \n",
       "\n",
       "   preseason_spei  soil_type  slope  elevation      aspect  grain_yield  \\\n",
       "0          -20.57          6      7        596  142.765167    42.088889   \n",
       "1           19.11          6      7        596  142.765167    71.019048   \n",
       "\n",
       "   test_weight  protein_content  plant_height  heading_date  \n",
       "0    58.105556        10.166667     31.000000    175.944444  \n",
       "1    59.385714        10.871429     28.095238    178.285714  \n",
       "\n",
       "[2 rows x 201 columns]"
      ]
     },
     "execution_count": 3,
     "metadata": {},
     "output_type": "execute_result"
    }
   ],
   "source": [
    "# This is not what we want.\n",
    "# We want full data series.\n",
    "# filename = (reOrganized_dir + \"all_stages_df22805_varietyAvgd.sav\")\n",
    "# all_stages_df22805_varietyAvgd = pd.read_pickle(filename)\n",
    "# all_stages_df22805_varietyAvgd.keys()\n",
    "\n",
    "# all_stages_df22805_varietyAvgd = all_stages_df22805_varietyAvgd[\"all_stages_data\"]\n",
    "# all_stages_df22805_varietyAvgd.head(2)"
   ]
  },
  {
   "cell_type": "code",
   "execution_count": 11,
   "id": "878ce94a",
   "metadata": {},
   "outputs": [
    {
     "data": {
      "text/plain": [
       "{'fdd': 'freezing_dd',\n",
       " 'srad': 'shortwave_rad_Wm2',\n",
       " 'prdtr': 'precip_div_dtr',\n",
       " 'dtr': 'diurnal_temp',\n",
       " 'dgdd': 'diurnal_gdd',\n",
       " 'ravg': 'relative_humidity_avg',\n",
       " 'hdd': 'high_dd',\n",
       " 'vs': 'wind_speed_ms',\n",
       " 'vpd': 'vpd_kPa'}"
      ]
     },
     "execution_count": 11,
     "metadata": {},
     "output_type": "execute_result"
    }
   ],
   "source": [
    "filename = (reOrganized_dir + \"variables_dict.sav\")\n",
    "variables_dict = pd.read_pickle(filename)\n",
    "variables_dict.keys()\n",
    "\n",
    "variables_dict = variables_dict[\"variables_abb_dict\"]\n",
    "variables_dict"
   ]
  },
  {
   "cell_type": "code",
   "execution_count": 13,
   "id": "fe1876e9",
   "metadata": {},
   "outputs": [
    {
     "data": {
      "text/plain": [
       "dict_keys(['averaged_varieties_weekly', 'separate_varieties_weekly', 'separate_varieties_annual', 'averaged_varieties_annual', 'separate_varieties_4season', 'averaged_varieties_4season', 'dates', 'source_code', 'Author', 'Date'])"
      ]
     },
     "execution_count": 13,
     "metadata": {},
     "output_type": "execute_result"
    }
   ],
   "source": [
    "filename = (reOrganized_dir + \"average_and_seperate_varieties_weekly.sav\")\n",
    "average_and_seperate_weekly = pd.read_pickle(filename)\n",
    "average_and_seperate_weekly.keys()"
   ]
  },
  {
   "cell_type": "code",
   "execution_count": null,
   "id": "63f07378",
   "metadata": {},
   "outputs": [],
   "source": [
    "\n",
    "variables_dict = variables_dict[\"variables_abb_dict\"]\n",
    "variables_dict"
   ]
  },
  {
   "cell_type": "code",
   "execution_count": null,
   "id": "21eb46db",
   "metadata": {},
   "outputs": [],
   "source": []
  }
 ],
 "metadata": {
  "kernelspec": {
   "display_name": "Python 3 (ipykernel)",
   "language": "python",
   "name": "python3"
  },
  "language_info": {
   "codemirror_mode": {
    "name": "ipython",
    "version": 3
   },
   "file_extension": ".py",
   "mimetype": "text/x-python",
   "name": "python",
   "nbconvert_exporter": "python",
   "pygments_lexer": "ipython3",
   "version": "3.11.5"
  }
 },
 "nbformat": 4,
 "nbformat_minor": 5
}

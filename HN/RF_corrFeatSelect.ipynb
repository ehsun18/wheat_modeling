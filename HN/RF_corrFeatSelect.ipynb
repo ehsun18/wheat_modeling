{
 "cells": [
  {
   "cell_type": "code",
   "execution_count": 5,
   "id": "3424f83f",
   "metadata": {},
   "outputs": [],
   "source": [
    "import shutup\n",
    "shutup.please()\n",
    "\n",
    "import pandas as pd\n",
    "import numpy as np\n",
    "import os, os.path, pickle, sys\n",
    "import seaborn as sns\n",
    "\n",
    "import matplotlib\n",
    "import matplotlib.pyplot as plt\n",
    "\n",
    "from sklearn import preprocessing\n",
    "from datetime import datetime, date\n",
    "\n",
    "from sklearn.model_selection import train_test_split"
   ]
  },
  {
   "cell_type": "code",
   "execution_count": 2,
   "id": "f7be59ab",
   "metadata": {},
   "outputs": [],
   "source": [
    "wheat_database = \"/Users/hn/Documents/01_research_data/Ehsan/wheat/\"\n",
    "hack_day_dir = wheat_database + \"data_April_26_2025_hackday/\"\n",
    "separate_varieties_dir = hack_day_dir + \"varieties/\""
   ]
  },
  {
   "cell_type": "code",
   "execution_count": null,
   "id": "e8989cd4",
   "metadata": {},
   "outputs": [],
   "source": [
    "grain_yield"
   ]
  },
  {
   "cell_type": "code",
   "execution_count": 3,
   "id": "1e50e89b",
   "metadata": {},
   "outputs": [],
   "source": [
    "trait = \"grain_yield\""
   ]
  },
  {
   "cell_type": "code",
   "execution_count": 18,
   "id": "54855555",
   "metadata": {},
   "outputs": [
    {
     "data": {
      "text/plain": [
       "dict_keys(['all_varieties_differentThreshs', 'source_code', 'Author', 'Date'])"
      ]
     },
     "execution_count": 18,
     "metadata": {},
     "output_type": "execute_result"
    }
   ],
   "source": [
    "filename = separate_varieties_dir + f\"{trait}_corrFeatSelect.sav\"\n",
    "grain_yield_corrFeature = pd.read_pickle(filename)\n",
    "grain_yield_corrFeature = grain_yield_corrFeature[\"all_varieties_differentThreshs\"]\n",
    "grain_yield_corrFeature.keys()"
   ]
  },
  {
   "cell_type": "code",
   "execution_count": 21,
   "id": "d87cb832",
   "metadata": {},
   "outputs": [
    {
     "data": {
      "text/plain": [
       "['grain_yield_diva_corrFeatSelect_Thresh5',\n",
       " 'grain_yield_whit_corrFeatSelect_Thresh5',\n",
       " 'grain_yield_ryan_corrFeatSelect_Thresh5',\n",
       " 'grain_yield_alpowa_corrFeatSelect_Thresh5',\n",
       " 'grain_yield_wb6341_corrFeatSelect_Thresh5',\n",
       " 'grain_yield_zak_corrFeatSelect_Thresh5',\n",
       " 'grain_yield_seahawk_corrFeatSelect_Thresh5',\n",
       " 'grain_yield_louise_corrFeatSelect_Thresh5',\n",
       " 'grain_yield_tekoa_corrFeatSelect_Thresh5',\n",
       " 'grain_yield_alturas_corrFeatSelect_Thresh5',\n",
       " 'grain_yield_nick_corrFeatSelect_Thresh5',\n",
       " 'grain_yield_babe_corrFeatSelect_Thresh5',\n",
       " 'grain_yield_wakanz_corrFeatSelect_Thresh5',\n",
       " 'grain_yield_diva_corrFeatSelect_Thresh6',\n",
       " 'grain_yield_whit_corrFeatSelect_Thresh6',\n",
       " 'grain_yield_ryan_corrFeatSelect_Thresh6',\n",
       " 'grain_yield_alpowa_corrFeatSelect_Thresh6',\n",
       " 'grain_yield_wb6341_corrFeatSelect_Thresh6',\n",
       " 'grain_yield_zak_corrFeatSelect_Thresh6',\n",
       " 'grain_yield_seahawk_corrFeatSelect_Thresh6',\n",
       " 'grain_yield_louise_corrFeatSelect_Thresh6',\n",
       " 'grain_yield_tekoa_corrFeatSelect_Thresh6',\n",
       " 'grain_yield_alturas_corrFeatSelect_Thresh6',\n",
       " 'grain_yield_nick_corrFeatSelect_Thresh6',\n",
       " 'grain_yield_babe_corrFeatSelect_Thresh6',\n",
       " 'grain_yield_wakanz_corrFeatSelect_Thresh6',\n",
       " 'grain_yield_diva_corrFeatSelect_Thresh7',\n",
       " 'grain_yield_whit_corrFeatSelect_Thresh7',\n",
       " 'grain_yield_ryan_corrFeatSelect_Thresh7',\n",
       " 'grain_yield_alpowa_corrFeatSelect_Thresh7',\n",
       " 'grain_yield_wb6341_corrFeatSelect_Thresh7',\n",
       " 'grain_yield_zak_corrFeatSelect_Thresh7',\n",
       " 'grain_yield_seahawk_corrFeatSelect_Thresh7',\n",
       " 'grain_yield_louise_corrFeatSelect_Thresh7',\n",
       " 'grain_yield_tekoa_corrFeatSelect_Thresh7',\n",
       " 'grain_yield_alturas_corrFeatSelect_Thresh7',\n",
       " 'grain_yield_nick_corrFeatSelect_Thresh7',\n",
       " 'grain_yield_babe_corrFeatSelect_Thresh7',\n",
       " 'grain_yield_wakanz_corrFeatSelect_Thresh7',\n",
       " 'grain_yield_diva_corrFeatSelect_Thresh8',\n",
       " 'grain_yield_whit_corrFeatSelect_Thresh8',\n",
       " 'grain_yield_ryan_corrFeatSelect_Thresh8',\n",
       " 'grain_yield_alpowa_corrFeatSelect_Thresh8',\n",
       " 'grain_yield_wb6341_corrFeatSelect_Thresh8',\n",
       " 'grain_yield_zak_corrFeatSelect_Thresh8',\n",
       " 'grain_yield_seahawk_corrFeatSelect_Thresh8',\n",
       " 'grain_yield_louise_corrFeatSelect_Thresh8',\n",
       " 'grain_yield_tekoa_corrFeatSelect_Thresh8',\n",
       " 'grain_yield_alturas_corrFeatSelect_Thresh8',\n",
       " 'grain_yield_nick_corrFeatSelect_Thresh8',\n",
       " 'grain_yield_babe_corrFeatSelect_Thresh8',\n",
       " 'grain_yield_wakanz_corrFeatSelect_Thresh8']"
      ]
     },
     "execution_count": 21,
     "metadata": {},
     "output_type": "execute_result"
    }
   ],
   "source": [
    "list (grain_yield_corrFeature.keys())"
   ]
  },
  {
   "cell_type": "code",
   "execution_count": null,
   "id": "2e0ba80b",
   "metadata": {},
   "outputs": [],
   "source": []
  },
  {
   "cell_type": "code",
   "execution_count": 11,
   "id": "a9c6e6fc",
   "metadata": {},
   "outputs": [],
   "source": [
    "# grain_yield_corrFeature.drop([\"environment\"], axis=1, inplace=True)\n",
    "all_columns = list(grain_yield_corrFeature.columns);\n",
    "\n",
    "unwanted_features = [\"year\", \"slope\", \"soil_type\", \n",
    "                     \"location\", \"latitude\", \"longitude\", \n",
    "                     \"aspect\", \"elevation\", \"variety\"]\n",
    "wanted_features = [x for x in all_columns if not (x in unwanted_features)]\n",
    "\n",
    "grain_yield_corrFeature = grain_yield_corrFeature[wanted_features]"
   ]
  },
  {
   "cell_type": "code",
   "execution_count": 14,
   "id": "0ac0bbde",
   "metadata": {},
   "outputs": [
    {
     "name": "stdout",
     "output_type": "stream",
     "text": [
      "18\n",
      "17\n"
     ]
    }
   ],
   "source": [
    "y_var = \"grain_yield\"\n",
    "print (len(wanted_features))\n",
    "wanted_features.remove(y_var)\n",
    "print (len(wanted_features))"
   ]
  },
  {
   "cell_type": "code",
   "execution_count": null,
   "id": "08f0b3e5",
   "metadata": {},
   "outputs": [],
   "source": [
    "grain_yield_corrFeature[]\n",
    "variety = "
   ]
  },
  {
   "cell_type": "code",
   "execution_count": 15,
   "id": "08674b3a",
   "metadata": {},
   "outputs": [],
   "source": [
    "x_train, x_test, y_train, y_test = train_test_split(grain_yield_corrFeature[wanted_features], \n",
    "                                                    grain_yield_corrFeature[y_var], \n",
    "                                                    test_size=0.2, random_state=0, shuffle=True)"
   ]
  },
  {
   "cell_type": "code",
   "execution_count": null,
   "id": "43e29540",
   "metadata": {},
   "outputs": [],
   "source": [
    "parameters = {'n_jobs':[6],\n",
    "              'criterion': [\"squared_error\", \"friedman_mse\"], \n",
    "              'max_depth':[1, 2, 3, 4, 5, 6, 8, 10, 11, 12, 13, 14, 15, 16, 17],\n",
    "              'min_samples_split':[4],\n",
    "              'max_features': [\"log2\"],\n",
    "              'ccp_alpha':[0.0, 0.1, 0.2, ], \n",
    "              'max_samples':[None]\n",
    "             } # , \n",
    "regular_forest_grid_1 = GridSearchCV(RandomForestRegressor(random_state=0), \n",
    "                                     parameters, cv=5, verbose=1,\n",
    "                                     error_score='raise')\n",
    "\n",
    "regular_forest_grid_1.fit(x_train_df.iloc[:, 1:], y_train_df.Vote.values.ravel())\n",
    "\n",
    "print (regular_forest_grid_1.best_params_)\n",
    "print (regular_forest_grid_1.best_score_)\n",
    "\n",
    "# %%\n",
    "regular_forest_grid_1_predictions = regular_forest_grid_1.predict(x_test_df.iloc[:, 1:])\n",
    "regular_forest_grid_1_y_test_df=y_test_df.copy()\n",
    "regular_forest_grid_1_y_test_df[\"prediction\"]=list(regular_forest_grid_1_predictions)\n",
    "regular_forest_grid_1_y_test_df.head(2)"
   ]
  }
 ],
 "metadata": {
  "kernelspec": {
   "display_name": "Python 3 (ipykernel)",
   "language": "python",
   "name": "python3"
  },
  "language_info": {
   "codemirror_mode": {
    "name": "ipython",
    "version": 3
   },
   "file_extension": ".py",
   "mimetype": "text/x-python",
   "name": "python",
   "nbconvert_exporter": "python",
   "pygments_lexer": "ipython3",
   "version": "3.9.6"
  }
 },
 "nbformat": 4,
 "nbformat_minor": 5
}
